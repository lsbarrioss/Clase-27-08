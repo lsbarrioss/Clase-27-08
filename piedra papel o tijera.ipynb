{
 "cells": [
  {
   "cell_type": "code",
   "execution_count": 4,
   "metadata": {},
   "outputs": [],
   "source": [
    "import random"
   ]
  },
  {
   "cell_type": "code",
   "execution_count": 9,
   "metadata": {},
   "outputs": [
    {
     "name": "stdout",
     "output_type": "stream",
     "text": [
      "Tu: piedra  Pc: tijeras\n",
      "¡Gamaste!\n"
     ]
    }
   ],
   "source": [
    "import random\n",
    "\n",
    "def play():\n",
    "    user = input(\"¿Qué vas a usar? 'piedra', 'papel', 'tijeras'\").lower() #el usuario ingresa su opción\n",
    "    computer = random.choice (['piedra', 'papel', 'tijeras']) #La computadora selecciona una opción a través de random.choice\n",
    "    \n",
    "    print(\"Tu:\" , user, \" Pc:\", computer) #le muestra al usuario las opciones\n",
    "\n",
    "    if user == computer:\n",
    "        return 'Es un Empate' #si sacan la misma opción es un empate\n",
    "    \n",
    "    if is_win(user, computer): #Si se cumple alguna de las opciones dentro de la función is_win me sale que gané\n",
    "        return '¡Gamaste!'\n",
    "    return '¡perdiste!' #Como este ya está afuera del if es como \"independiente\", es decir si no se cumple el if el computador sigue a esta linea y la ejecuta.\n",
    "\n",
    "def is_win(player, opponent): #Esta función define las opciones en las cuales YO como usuario gano\n",
    "    if (player == 'piedra' and opponent == 'tijeras') or (player == 'tijeras' and opponent == 'papel') \\\n",
    "        or (player == 'papel' and opponent == 'piedra'): \n",
    "        return True #Me devuelve verdadero si se cumplio alguna de las condiciones de arriba\n",
    "    \n",
    "print(play())\n",
    "\n",
    "# if is_win (user, computer) -> en esa condicion va y revisa la función \"def is_win\" y si da un valor verdadero (ganamos) sale que ganamos\n"
   ]
  },
  {
   "cell_type": "code",
   "execution_count": 12,
   "metadata": {},
   "outputs": [
    {
     "name": "stdout",
     "output_type": "stream",
     "text": [
      "Ronda 1:\n",
      "Tu: piedra  Pc: papel\n",
      "¡perdiste!\n",
      "\n",
      "Ronda 2:\n",
      "Tu: papel  Pc: piedra\n",
      "¡Gamaste!\n",
      "\n",
      "Ronda 3:\n",
      "Tu: tijera  Pc: piedra\n",
      "¡perdiste!\n",
      "\n",
      "Ronda 4:\n",
      "Tu: piedra  Pc: papel\n",
      "¡perdiste!\n",
      "\n",
      "Ronda 5:\n",
      "Tu: papel  Pc: tijeras\n",
      "¡perdiste!\n",
      "\n"
     ]
    }
   ],
   "source": [
    "for i in range(5):\n",
    "    print(f\"Ronda {i+1}:\")\n",
    "    resultado = play()\n",
    "    print(resultado)\n",
    "    print()\n",
    "\n"
   ]
  },
  {
   "cell_type": "code",
   "execution_count": 18,
   "metadata": {},
   "outputs": [
    {
     "name": "stdout",
     "output_type": "stream",
     "text": [
      "tu contraseña de longitud 50 es: v5P0d%W*5mWf6tsX,EbBlogHlcD7*?414?gtRUb$+F9u)xD\"Vb\n"
     ]
    }
   ],
   "source": [
    "# !\"#$%()*+,-./0123456789?@ABCDEFGHIJKLMNOPQRSTUVWXYZabcdefghijklmnopqrstuvwxyz\n",
    "\n",
    "import random\n",
    "\n",
    "chars ='!\"#$%()*+,-./0123456789?@ABCDEFGHIJKLMNOPQRSTUVWXYZabcdefghijklmnopqrstuvwxyz'\n",
    "password = ''\n",
    "\n",
    "lengthPW = int(input('¿Que longitud quieres para tu pw'))\n",
    "\n",
    "for _ in range(lengthPW):\n",
    "    password += random.choice(chars)\n",
    "\n",
    "print(\"tu contraseña de longitud\", lengthPW, \"es:\",password)"
   ]
  }
 ],
 "metadata": {
  "kernelspec": {
   "display_name": "Python 3",
   "language": "python",
   "name": "python3"
  },
  "language_info": {
   "codemirror_mode": {
    "name": "ipython",
    "version": 3
   },
   "file_extension": ".py",
   "mimetype": "text/x-python",
   "name": "python",
   "nbconvert_exporter": "python",
   "pygments_lexer": "ipython3",
   "version": "3.12.2"
  }
 },
 "nbformat": 4,
 "nbformat_minor": 2
}
